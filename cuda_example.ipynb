{
 "cells": [
  {
   "cell_type": "markdown",
   "id": "bd20d38b",
   "metadata": {},
   "source": [
    "## Example Juila and CUDA Code"
   ]
  },
  {
   "cell_type": "code",
   "execution_count": 1,
   "id": "7c981ab6",
   "metadata": {},
   "outputs": [
    {
     "data": {
      "text/plain": [
       "vadd!"
      ]
     },
     "execution_count": 1,
     "metadata": {},
     "output_type": "execute_result"
    }
   ],
   "source": [
    "using Test\n",
    "using CUDA\n",
    "using CUDA: i32\n",
    "\n",
    "\"\"\"\n",
    "This is a cuda kernel function.\n",
    "a,b,c are CuArrays which are CUDA Device Arrays\n",
    "\n",
    "Each thread will simultaneously run from the start of the kernel.\n",
    "Using their ids, we can parallelize work amongst the various threads.\n",
    "An example for vector addition is to give each thread an set of elements to add\n",
    "We can do this by creating a step range based on the number of threads assigned and thread blocks\n",
    "\"\"\"\n",
    "function vadd!(a, b, c)\n",
    "    index = (blockIdx().x-1i32) * blockDim().x + threadIdx().x\n",
    "    stride = gridDim().x * blockDim().x;\n",
    "    \n",
    "    i = index;\n",
    "    \n",
    "    while i < length(c)\n",
    "        # using inbounds ignore the bounds checking which is slow\n",
    "        @inbounds c[i] = a[i] + b[i];\n",
    "        i+=stride;\n",
    "    end\n",
    "    \n",
    "    return nothing;\n",
    "end"
   ]
  },
  {
   "cell_type": "code",
   "execution_count": 2,
   "id": "9f7808a0",
   "metadata": {},
   "outputs": [
    {
     "data": {
      "text/plain": [
       "VaddExample (generic function with 1 method)"
      ]
     },
     "execution_count": 2,
     "metadata": {},
     "output_type": "execute_result"
    }
   ],
   "source": [
    "function VaddExample()\n",
    "    N = 2^20;\n",
    "    \n",
    "    d_a = CUDA.fill(0f0, N);\n",
    "    d_b = CUDA.fill(1f0, N);\n",
    "    d_c = similar(d_b);\n",
    "\n",
    "    # Calculate number of threads/block to use, each block has the same shared memory region\n",
    "    nthreads = 256;\n",
    "    \n",
    "    # Number of blocks needed to support 2^20 element such that 1 thread does 1 element\n",
    "    nblocks = ceil(Int, N/nthreads);\n",
    "    \n",
    "    # Need to call CUDA sync because the kernel launch is async\n",
    "    CUDA.@sync begin\n",
    "        @cuda threads=nthreads blocks=nblocks vadd!(d_a, d_b, d_c);\n",
    "    end\n",
    "    \n",
    "    # Copy the result array on GPU back to Main Memory\n",
    "    c = Array(d_c);\n",
    "    return c;\n",
    "end"
   ]
  },
  {
   "cell_type": "code",
   "execution_count": 5,
   "id": "56b5b902",
   "metadata": {},
   "outputs": [
    {
     "name": "stdout",
     "output_type": "stream",
     "text": [
      "  0.004380 seconds (83 allocations: 4.005 MiB)\n"
     ]
    }
   ],
   "source": [
    "@time result = VaddExample();"
   ]
  },
  {
   "cell_type": "code",
   "execution_count": 7,
   "id": "759163eb",
   "metadata": {},
   "outputs": [
    {
     "data": {
      "text/plain": [
       "1.0f0"
      ]
     },
     "execution_count": 7,
     "metadata": {},
     "output_type": "execute_result"
    }
   ],
   "source": [
    "result[1]"
   ]
  },
  {
   "cell_type": "code",
   "execution_count": null,
   "id": "62c68999",
   "metadata": {},
   "outputs": [],
   "source": []
  }
 ],
 "metadata": {
  "kernelspec": {
   "display_name": "Julia 8 Threads 1.9.0",
   "language": "julia",
   "name": "julia-8-threads-1.9"
  },
  "language_info": {
   "file_extension": ".jl",
   "mimetype": "application/julia",
   "name": "julia",
   "version": "1.9.0"
  }
 },
 "nbformat": 4,
 "nbformat_minor": 5
}
